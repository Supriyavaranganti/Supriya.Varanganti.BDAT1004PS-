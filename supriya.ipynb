{
 "cells": [
  {
   "cell_type": "markdown",
   "id": "4c572f6e",
   "metadata": {},
   "source": [
    "# 1.What data type is each of the following?\n",
    "\n",
    "5 5.0 5 > 1 '5' 5 2 '5' 2 '5' + '2' 5 / 2 5 % 2 {5, 2, 1} 5 == 3 Pi (the number)"
   ]
  },
  {
   "cell_type": "code",
   "execution_count": 2,
   "id": "120a094e",
   "metadata": {},
   "outputs": [
    {
     "name": "stdout",
     "output_type": "stream",
     "text": [
      "<class 'int'>\n",
      "<class 'float'>\n",
      "<class 'bool'>\n",
      "<class 'str'>\n",
      "<class 'int'>\n",
      "<class 'str'>\n",
      "<class 'str'>\n",
      "<class 'float'>\n",
      "<class 'int'>\n",
      "<class 'set'>\n",
      "<class 'bool'>\n"
     ]
    }
   ],
   "source": [
    "\n",
    " a=5  \n",
    "b=5.0  \n",
    "c=5 > 1 \n",
    "d='5'  \n",
    "e=5 * 2 \n",
    "f='5' * 2 \n",
    "g='5' + '2' \n",
    "h=5 / 2 \n",
    "i=5 % 2  \n",
    "j={5, 2, 1} \n",
    "k=5 == 3 \n",
    "\n",
    "print(type(a))\n",
    "print(type(b))  \n",
    "print(type(c))\n",
    "print(type(d))  \n",
    "print(type(e)) \n",
    "print(type(f))\n",
    "print(type(g))  \n",
    "print(type(h)) \n",
    "print(type(i)) \n",
    "print(type(j)) \n",
    "print(type(k)) "
   ]
  },
  {
   "cell_type": "markdown",
   "id": "20678002",
   "metadata": {},
   "source": [
    "# 2. A) How many letters are there in 'Supercalifragilisticexpialidocious'?"
   ]
  },
  {
   "cell_type": "code",
   "execution_count": 17,
   "id": "6b0dfd0e",
   "metadata": {},
   "outputs": [
    {
     "name": "stdout",
     "output_type": "stream",
     "text": [
      "34\n"
     ]
    }
   ],
   "source": [
    "a=\"Supercalifragilisticexpialidocious\"\n",
    "print(len(a))"
   ]
  },
  {
   "cell_type": "markdown",
   "id": "a468def8",
   "metadata": {},
   "source": [
    "# B) Does 'Supercalifragilisticexpialidocious' contain 'ice' as a substring?"
   ]
  },
  {
   "cell_type": "code",
   "execution_count": 20,
   "id": "13ed2792",
   "metadata": {},
   "outputs": [
    {
     "name": "stdout",
     "output_type": "stream",
     "text": [
      "Ice found in Supercalifragilisticexpialidocious\n"
     ]
    }
   ],
   "source": [
    "a=\"Supercalifragilisticexpialidocious\"\n",
    "b=\"ice\"\n",
    "if (a.find(b)>0):\n",
    "    print('Ice found in '+a)\n",
    "else:\n",
    "    print('Ice not found in '+a)\n"
   ]
  },
  {
   "cell_type": "markdown",
   "id": "6f746ec6",
   "metadata": {},
   "source": [
    "# C) Which of the following words is the longest: Supercalifragilisticexpialidocious, Honorificabilitudinitatibus, or Bababadalgharaghtakamminarronnkonn?"
   ]
  },
  {
   "cell_type": "code",
   "execution_count": 35,
   "id": "e0c90cc5",
   "metadata": {},
   "outputs": [
    {
     "name": "stdout",
     "output_type": "stream",
     "text": [
      "Supercalifragilisticexpialidocious  Bababadalgharaghtakamminarronnkonn are the longest words with 34 Letters each\n"
     ]
    }
   ],
   "source": [
    "a=\"Supercalifragilisticexpialidocious\"\n",
    "b=\"Honorificabilitudinitatibus\"\n",
    "c=\"Bababadalgharaghtakamminarronnkonn\"\n",
    "\n",
    "d=[len(a),len(b),len(c)]\n",
    "e=max(d)\n",
    "f=''\n",
    "g=''\n",
    "h=''\n",
    "\n",
    "if (e==len(a)):\n",
    "    f=a\n",
    "else:\n",
    "    f=''\n",
    "if(e==len(b)):\n",
    "    g=b\n",
    "else:\n",
    "    g=''\n",
    "if(e==len(c)):\n",
    "    h=c\n",
    "else:\n",
    "    h=''\n",
    "print(f,g,h + ' are the longest words with ' + str(e) + ' Letters each')"
   ]
  },
  {
   "cell_type": "markdown",
   "id": "d59126a1",
   "metadata": {},
   "source": [
    "# D) Which composer comes first in the dictionary: 'Berlioz', 'Borodin', 'Brian', 'Bartok', 'Bellini', 'Buxtehude', 'Bernstein'. Which one comes last"
   ]
  },
  {
   "cell_type": "code",
   "execution_count": 37,
   "id": "6ed3682e",
   "metadata": {},
   "outputs": [
    {
     "name": "stdout",
     "output_type": "stream",
     "text": [
      "Bartok comes first in the dictionary while Buxtehude comes at the last\n"
     ]
    }
   ],
   "source": [
    "a=['Berlioz', 'Borodin', 'Brian', 'Bartok', 'Bellini', 'Buxtehude', 'Bernstein']\n",
    "print(min(a) + ' comes first in the dictionary while ' + max(a) + ' comes at the last')"
   ]
  },
  {
   "cell_type": "markdown",
   "id": "0574ee8e",
   "metadata": {},
   "source": [
    "# 3. Implement function triangleArea(a,b,c) that takes as input the lengths of the 3 sides of a triangle and returns the area of the triangle. By Heron's formula, the area of a triangle with side lengths a, b, and c is s(s − a)(s −b)(s −c), where s = (a + b + c)/2."
   ]
  },
  {
   "cell_type": "code",
   "execution_count": 12,
   "id": "51b5fbf0",
   "metadata": {},
   "outputs": [
    {
     "name": "stdout",
     "output_type": "stream",
     "text": [
      "Enter the length of a: \n",
      "2\n",
      "Enter the length of b: \n",
      "2\n",
      "Enter the length of c: \n",
      "2\n",
      "The area of the triangle is 1.7320508075688772\n"
     ]
    }
   ],
   "source": [
    "print('Enter the length of a: ')\n",
    "a = int(input())\n",
    "print('Enter the length of b: ')\n",
    "b = int(input())\n",
    "print('Enter the length of c: ')\n",
    "c = int(input()) \n",
    "s = (a+b+c) / 2\n",
    "area = (s-a)*(s-b)*(s-c)\n",
    "area=area*s\n",
    "val=area**0.5\n",
    "print('The area of the triangle is ' + str(val))"
   ]
  },
  {
   "cell_type": "markdown",
   "id": "bf96fa66",
   "metadata": {},
   "source": [
    "# 4. Write a program in C# Sharp to separate odd and even integers in separate arrays. Go to the editor Test Data : Input the number of elements to be stored in the array :5 Input 5 elements in the array : element - 0 : 25 element - 1 : 47 element - 2 : 42 element - 3 : 56 element - 4 : 32"
   ]
  },
  {
   "cell_type": "code",
   "execution_count": 27,
   "id": "40ef5d58",
   "metadata": {},
   "outputs": [
    {
     "name": "stdout",
     "output_type": "stream",
     "text": [
      "the even elements are :[42, 56, 32]\n",
      "the even elements are :[25, 47]\n"
     ]
    }
   ],
   "source": [
    "a=[25,47,42,56,32]\n",
    "i=0\n",
    "b=[]\n",
    "c=[]\n",
    "j=len(a)-1\n",
    "while (i<=j):\n",
    "    if(a[i]%2==0):\n",
    "        b.append(a[i])\n",
    "    else:\n",
    "        c.append(a[i])\n",
    "    i+=1\n",
    "print('the even elements are :' + str(b))\n",
    "print('the even elements are :' + str(c))"
   ]
  },
  {
   "cell_type": "markdown",
   "id": "22af7ca2",
   "metadata": {},
   "source": [
    "# 5. A) Write a function inside(x,y,x1,y1,x2,y2) that returns True or False dependingonwhetherthepoint(x,y)liesintherectanglewithlowerleft corner (x1,y1) and upper right corner (x2,y2)."
   ]
  },
  {
   "cell_type": "code",
   "execution_count": 47,
   "id": "04b43c08",
   "metadata": {},
   "outputs": [
    {
     "name": "stdout",
     "output_type": "stream",
     "text": [
      "The point (1,1) lies within the rectangle (0,0) and (2,3).\n",
      "True\n",
      "The point (-1,-1) lies outside the rectangle (0,0) and (2,3).\n",
      "False\n"
     ]
    }
   ],
   "source": [
    "def inside(x,y,x1,y1,x2,y2) : \n",
    "    'checks if the points (x,y) lies within the rectangle (x1,y1) and (x2,y2)'\n",
    "    if (x >= x1 and x <= x2) and (y >= y1 and y <= y2) : #checks if the point lies within the rectangle\n",
    "        print('The point ({},{}) lies within the rectangle ({},{}) and ({},{}).'.format(x,y,x1,y1,x2,y2))\n",
    "        return True\n",
    "    else:\n",
    "        print('The point ({},{}) lies outside the rectangle ({},{}) and ({},{}).'.format(x,y,x1,y1,x2,y2))\n",
    "        return False;\n",
    "print(inside(1,1,0,0,2,3))\n",
    "print(inside(-1,-1,0,0,2,3))"
   ]
  },
  {
   "cell_type": "markdown",
   "id": "46eb2a18",
   "metadata": {},
   "source": [
    "#  B) Use function inside()from part a. to write an expression that tests whether the point (1,1) lies in both of the following rectangles: one with lower left corner (0.3, 0.5) and upper right corner (1.1, 0.7) and the other with lower left corner (0.5, 0.2) and upper right corner (1.1, 2)."
   ]
  },
  {
   "cell_type": "code",
   "execution_count": 54,
   "id": "c1c5915a",
   "metadata": {},
   "outputs": [
    {
     "name": "stdout",
     "output_type": "stream",
     "text": [
      "The point (1,1) does not lie within both the rectangle (0.3,0.5)(1.1,0.7) and (0.5,0.2)(1.1,2).\n"
     ]
    }
   ],
   "source": [
    "def inside(x,y,x1,y1,x2,y2) : \n",
    "    'checks if the points (x,y) lies within the rectangle (x1,y1) and (x2,y2)'\n",
    "    if (x >= x1 and x <= x2) and (y >= y1 and y <= y2) :\n",
    "        return True\n",
    "    else:\n",
    "        return False;\n",
    "a = inside(1,1,0.3,0.5,1.1,0.7)\n",
    "b = inside(1,1,0.5,0.2,1.1,2)\n",
    "if (a == True and b == True):\n",
    "    print(\"The point (1,1) lies within both the rectangle (0.3,0.5)(1.1,0.7) and (0.5,0.2)(1.1,2).\")\n",
    "else:\n",
    "    print(\"The point (1,1) does not lie within both the rectangle (0.3,0.5)(1.1,0.7) and (0.5,0.2)(1.1,2).\")"
   ]
  },
  {
   "cell_type": "markdown",
   "id": "8c0dd4de",
   "metadata": {},
   "source": [
    "# 6. \n",
    "You can turn a word into pig-Latin using the following two rules (simplified):\n",
    "\n",
    "If the word starts with a consonant, move that letter to the end and append 'ay'. For example, 'happy' becomes 'appyhay' and 'pencil' becomes 'encilpay'.\n",
    "\n",
    "If the word starts with a vowel, simply append 'way' to the end of the word. For example, 'enter' becomes 'enterway' and 'other' becomes 'otherway' . For our purposes, there are 5 vowels: a, e, i, o, u (so we count y as a consonant).\n",
    "\n",
    "Write a function pig() that takes a word (i.e., a string) as input and returns its pigLatin form. Your function should still work if the input word contains upper case characters. Your output should always be lower case however.\n",
    "\n",
    "pig('happy')\n",
    "\n",
    "'appyhay'\n",
    "\n",
    "pig('Enter')\n",
    "\n",
    "'enterway'"
   ]
  },
  {
   "cell_type": "code",
   "execution_count": 16,
   "id": "bbf78291",
   "metadata": {},
   "outputs": [
    {
     "name": "stdout",
     "output_type": "stream",
     "text": [
      "Enter a word\n",
      "happy\n",
      "appyay\n",
      "<function pig at 0x000001E977BC08B0>\n"
     ]
    }
   ],
   "source": [
    "def pig(n):\n",
    "    a=[]\n",
    "    b=['a','e','i','o','u','A','E','I','O','U']\n",
    "    for i in n:\n",
    "       if i not in b:\n",
    "          a.append(n[1:len(n)+1])\n",
    "          a.append('ay')\n",
    "          print(*a,sep='')\n",
    "          break\n",
    "       elif i in b:\n",
    "          a.append(n)\n",
    "          a.append('way')\n",
    "          print(*a,sep='')\n",
    "          break\n",
    "          return\n",
    "    \n",
    "print(\"Enter a word\")\n",
    "m=input().strip()\n",
    "pig(m)\n",
    "print(pig)"
   ]
  },
  {
   "cell_type": "markdown",
   "id": "9d2f2b60",
   "metadata": {},
   "source": [
    "# 7. File bloodtype1.txt records blood-types of patients (A, B, AB, O or OO) at a clinic. Write a function bldcount() that reads the file with name name and reports (i.e., prints) how many patients there are in each bloodtype"
   ]
  },
  {
   "cell_type": "code",
   "execution_count": 49,
   "id": "8813cdac",
   "metadata": {},
   "outputs": [
    {
     "ename": "OSError",
     "evalue": "[Errno 22] Invalid argument: 'C:\\\\supriya\\x08loodtype.txt'",
     "output_type": "error",
     "traceback": [
      "\u001b[1;31m---------------------------------------------------------------------------\u001b[0m",
      "\u001b[1;31mOSError\u001b[0m                                   Traceback (most recent call last)",
      "Input \u001b[1;32mIn [49]\u001b[0m, in \u001b[0;36m<cell line: 26>\u001b[1;34m()\u001b[0m\n\u001b[0;32m     23\u001b[0m     \u001b[38;5;28;01mfor\u001b[39;00m i \u001b[38;5;129;01min\u001b[39;00m \u001b[38;5;28mrange\u001b[39m(\u001b[38;5;28mlen\u001b[39m(bloodTypeList)):\n\u001b[0;32m     24\u001b[0m         \u001b[38;5;28mprint\u001b[39m(\u001b[38;5;124m'\u001b[39m\u001b[38;5;124mThere are \u001b[39m\u001b[38;5;132;01m{}\u001b[39;00m\u001b[38;5;124m patients of blood type \u001b[39m\u001b[38;5;132;01m{}\u001b[39;00m\u001b[38;5;124m.\u001b[39m\u001b[38;5;124m'\u001b[39m\u001b[38;5;241m.\u001b[39mformat(count[i],bloodTypeList[i]))\n\u001b[1;32m---> 26\u001b[0m \u001b[43mbldcount\u001b[49m\u001b[43m(\u001b[49m\u001b[43m)\u001b[49m\n",
      "Input \u001b[1;32mIn [49]\u001b[0m, in \u001b[0;36mbldcount\u001b[1;34m()\u001b[0m\n\u001b[0;32m      1\u001b[0m \u001b[38;5;28;01mdef\u001b[39;00m \u001b[38;5;21mbldcount\u001b[39m():\n\u001b[0;32m      2\u001b[0m     \u001b[38;5;124m'\u001b[39m\u001b[38;5;124mreads the file bloodtype1.txt and records the number of patients with the blood types\u001b[39m\u001b[38;5;124m'\u001b[39m\n\u001b[1;32m----> 3\u001b[0m     fileptr \u001b[38;5;241m=\u001b[39m \u001b[38;5;28;43mopen\u001b[39;49m\u001b[43m(\u001b[49m\u001b[38;5;124;43m'\u001b[39;49m\u001b[38;5;124;43mC:\u001b[39;49m\u001b[38;5;124;43m\\\u001b[39;49m\u001b[38;5;124;43msupriya\u001b[39;49m\u001b[38;5;130;43;01m\\b\u001b[39;49;00m\u001b[38;5;124;43mloodtype.txt\u001b[39;49m\u001b[38;5;124;43m'\u001b[39;49m\u001b[43m,\u001b[49m\u001b[43m \u001b[49m\u001b[38;5;124;43m'\u001b[39;49m\u001b[38;5;124;43mr\u001b[39;49m\u001b[38;5;124;43m'\u001b[39;49m\u001b[43m)\u001b[49m\n\u001b[0;32m      4\u001b[0m     typeList \u001b[38;5;241m=\u001b[39m fileptr\u001b[38;5;241m.\u001b[39mread()\n\u001b[0;32m      5\u001b[0m     fileptr\u001b[38;5;241m.\u001b[39mclose()\n",
      "\u001b[1;31mOSError\u001b[0m: [Errno 22] Invalid argument: 'C:\\\\supriya\\x08loodtype.txt'"
     ]
    }
   ],
   "source": [
    "def bldcount():\n",
    "    'reads the file bloodtype1.txt and records the number of patients with the blood types'\n",
    "    fileptr = open('C:\\supriya\\bloodtype.txt', 'r')\n",
    "    typeList = fileptr.read()\n",
    "    fileptr.close()\n",
    "    bloodType = typeList.split()\n",
    "    var = len(bloodType)\n",
    "    bloodTypeList = ['A', 'B', 'AB', 'O', 'OO']\n",
    "    count = [0 ,0 ,0 ,0 ,0] #blood group list in format [A, B, AB, O, OO]\n",
    "    #For loop BEGIN; This compares the blood groups and keeps the count\n",
    "    for i in range(var):\n",
    "        if bloodType[i] == bloodTypeList[0]:\n",
    "            count[0] += 1\n",
    "        elif bloodType[i] == bloodTypeList[1]:\n",
    "            count[1] += 1\n",
    "        elif bloodType[i] == bloodTypeList[2]:\n",
    "            count[2] += 1\n",
    "        elif bloodType[i] == bloodTypeList[3]:\n",
    "            count[3] += 1\n",
    "        elif bloodType[i] == bloodTypeList[4]:\n",
    "            count[4] += 1\n",
    "\n",
    "    for i in range(len(bloodTypeList)):\n",
    "        print('There are {} patients of blood type {}.'.format(count[i],bloodTypeList[i]))\n",
    "          \n",
    "bldcount()"
   ]
  },
  {
   "cell_type": "markdown",
   "id": "41a12f93",
   "metadata": {},
   "source": [
    "# 8. Write a function curconv() that takes as input:\n",
    "\n",
    "1)a currency represented using a string (e.g., 'JPY' for the Japanese Yen or 'EUR' for the Euro) 2)an amount and then converts and returns the amount in US dollars.\n",
    "\n",
    "curconv('EUR', 100) 122.96544\n",
    "\n",
    "curconv('JPY', 100) 1.241401"
   ]
  },
  {
   "cell_type": "code",
   "execution_count": 52,
   "id": "c2f9d414",
   "metadata": {},
   "outputs": [
    {
     "name": "stdout",
     "output_type": "stream",
     "text": [
      "Currencies:\n",
      "Acronym\tCurrent Value\tCurrency Name\n",
      "AUD\t1.0345157\tAustralian Dollar\n",
      "CHF\t1.0237414\tSwiss Franc\n",
      "CNY\t0.1550176\tChinese Yuan\n",
      "DKK\t0.1651442\tDanish Krone\n",
      "EUR\t1.2296544\tEuro\n",
      "GBP\t1.5550989\tBritish Pound\n",
      "HKD\t0.1270207\tHong Kong Dollar\n",
      "INR\t0.0177643\tIndian Rupee\n",
      "JPY\t0.01241401\tJapanese Yen\n",
      "MXN\t0.0751848\tMexican Peso\n",
      "MYR\t0.3145411\tMalaysian Ringgit\n",
      "NOK\t0.1677063\tNorwegian Krone\n",
      "NZD\t0.8003591\tNew Zealand Dollar\n",
      "PHP\t0.0233234\tPhilippine Peso\n",
      "SEK\t0.148269\tSwedish Krona\n",
      "SGD\t0.788871\tSingapore Dollar\n",
      "THB\t0.0313789\tThai Baht\n",
      "Enter the currency acronym (ex: AUD): EUR\n",
      "The currency you chose: EUR \n",
      "Enter the amount: 133\n"
     ]
    },
    {
     "ename": "FileNotFoundError",
     "evalue": "[Errno 2] No such file or directory: 'currencies.txt'",
     "output_type": "error",
     "traceback": [
      "\u001b[1;31m---------------------------------------------------------------------------\u001b[0m",
      "\u001b[1;31mFileNotFoundError\u001b[0m                         Traceback (most recent call last)",
      "Input \u001b[1;32mIn [52]\u001b[0m, in \u001b[0;36m<cell line: 30>\u001b[1;34m()\u001b[0m\n\u001b[0;32m     28\u001b[0m amount \u001b[38;5;241m=\u001b[39m \u001b[38;5;28minput\u001b[39m(\u001b[38;5;124m\"\u001b[39m\u001b[38;5;124mEnter the amount: \u001b[39m\u001b[38;5;124m\"\u001b[39m)\n\u001b[0;32m     29\u001b[0m \u001b[38;5;66;03m#Call function to convert currency\u001b[39;00m\n\u001b[1;32m---> 30\u001b[0m convertedAmount \u001b[38;5;241m=\u001b[39m \u001b[43mcurconv\u001b[49m\u001b[43m(\u001b[49m\u001b[43mcurrency\u001b[49m\u001b[43m,\u001b[49m\u001b[43mamount\u001b[49m\u001b[43m)\u001b[49m\n\u001b[0;32m     31\u001b[0m \u001b[38;5;28mprint\u001b[39m(\u001b[38;5;124m\"\u001b[39m\u001b[38;5;124mConverted Amount is: \u001b[39m\u001b[38;5;132;01m{}\u001b[39;00m\u001b[38;5;124m\"\u001b[39m\u001b[38;5;241m.\u001b[39mformat(convertedAmount))\n",
      "Input \u001b[1;32mIn [52]\u001b[0m, in \u001b[0;36mcurconv\u001b[1;34m(a, b)\u001b[0m\n\u001b[0;32m      9\u001b[0m \u001b[38;5;28;01mdef\u001b[39;00m \u001b[38;5;21mcurconv\u001b[39m(a,b):\n\u001b[0;32m     10\u001b[0m     \u001b[38;5;124m'\u001b[39m\u001b[38;5;124mconverts the currency\u001b[39m\u001b[38;5;124m'\u001b[39m\n\u001b[1;32m---> 11\u001b[0m     fileptr \u001b[38;5;241m=\u001b[39m \u001b[38;5;28;43mopen\u001b[39;49m\u001b[43m(\u001b[49m\u001b[38;5;124;43m\"\u001b[39;49m\u001b[38;5;124;43mcurrencies.txt\u001b[39;49m\u001b[38;5;124;43m\"\u001b[39;49m\u001b[43m,\u001b[49m\u001b[43m \u001b[49m\u001b[38;5;124;43m\"\u001b[39;49m\u001b[38;5;124;43mr\u001b[39;49m\u001b[38;5;124;43m\"\u001b[39;49m\u001b[43m)\u001b[49m \u001b[38;5;66;03m#Open file in Read mode\u001b[39;00m\n\u001b[0;32m     12\u001b[0m     listLines \u001b[38;5;241m=\u001b[39m fileptr\u001b[38;5;241m.\u001b[39mreadlines() \u001b[38;5;66;03m#Read lines\u001b[39;00m\n\u001b[0;32m     13\u001b[0m     fileptr\u001b[38;5;241m.\u001b[39mclose()\n",
      "\u001b[1;31mFileNotFoundError\u001b[0m: [Errno 2] No such file or directory: 'currencies.txt'"
     ]
    }
   ],
   "source": [
    "def displayCurrencies():\n",
    "    'Displays the currencies available in the file'\n",
    "    fileptr = open(\"C:\\supriya\\currency.txt\", \"r\") #Open file in Read mode\n",
    "    print(\"Currencies:\")\n",
    "    print(\"Acronym\\tCurrent Value\\tCurrency Name\")\n",
    "    print(fileptr.read())\n",
    "    fileptr.close()\n",
    "\n",
    "def curconv(a,b):\n",
    "    'converts the currency'\n",
    "    fileptr = open(\"currencies.txt\", \"r\") #Open file in Read mode\n",
    "    listLines = fileptr.readlines() #Read lines\n",
    "    fileptr.close()\n",
    "    for i in listLines:\n",
    "        if a in i:\n",
    "            currencyLine = i\n",
    "    chosenCur = currencyLine.split()\n",
    "    value = chosenCur[1]\n",
    "    convertedAmount = float(value) * float(b)\n",
    "    return convertedAmount\n",
    "\n",
    "#Display the available currencies\n",
    "displayCurrencies()\n",
    "#Ask to chose the required currency\n",
    "currency = str(input(\"Enter the currency acronym (ex: AUD): \"))\n",
    "print(\"The currency you chose: {} \".format(currency))\n",
    "#Ask for the amount to convert\n",
    "amount = input(\"Enter the amount: \")\n",
    "#Call function to convert currency\n",
    "convertedAmount = curconv(currency,amount)\n",
    "print(\"Converted Amount is: {}\".format(convertedAmount))"
   ]
  },
  {
   "cell_type": "markdown",
   "id": "08fad332",
   "metadata": {},
   "source": [
    "# Each of the following will cause an exception (an error). Identify what type of exception each will cause"
   ]
  },
  {
   "cell_type": "markdown",
   "id": "679707dc",
   "metadata": {},
   "source": [
    "# A)"
   ]
  },
  {
   "cell_type": "code",
   "execution_count": 42,
   "id": "594bee77",
   "metadata": {},
   "outputs": [
    {
     "name": "stdout",
     "output_type": "stream",
     "text": [
      "Trying to add incompaitable variables, as in adding 6 + 'a'\n"
     ]
    },
    {
     "ename": "TypeError",
     "evalue": "unsupported operand type(s) for +: 'int' and 'str'",
     "output_type": "error",
     "traceback": [
      "\u001b[1;31m---------------------------------------------------------------------------\u001b[0m",
      "\u001b[1;31mTypeError\u001b[0m                                 Traceback (most recent call last)",
      "Input \u001b[1;32mIn [42]\u001b[0m, in \u001b[0;36m<cell line: 4>\u001b[1;34m()\u001b[0m\n\u001b[0;32m      2\u001b[0m a\u001b[38;5;241m=\u001b[39m\u001b[38;5;241m6\u001b[39m\n\u001b[0;32m      3\u001b[0m b\u001b[38;5;241m=\u001b[39m\u001b[38;5;124m'\u001b[39m\u001b[38;5;124ma\u001b[39m\u001b[38;5;124m'\u001b[39m\n\u001b[1;32m----> 4\u001b[0m \u001b[38;5;28mprint\u001b[39m(\u001b[43ma\u001b[49m\u001b[38;5;241;43m+\u001b[39;49m\u001b[43mb\u001b[49m)\n",
      "\u001b[1;31mTypeError\u001b[0m: unsupported operand type(s) for +: 'int' and 'str'"
     ]
    }
   ],
   "source": [
    "print(\"Trying to add incompaitable variables, as in adding 6 + 'a'\")\n",
    "a=6\n",
    "b='a'\n",
    "print(a+b)\n",
    "#‘Trying to add a+b causes the following exception - unsupported operand type (s) for +: “int” and “str”"
   ]
  },
  {
   "cell_type": "markdown",
   "id": "35b3ed43",
   "metadata": {},
   "source": [
    "# B)"
   ]
  },
  {
   "cell_type": "code",
   "execution_count": 43,
   "id": "7e20dccf",
   "metadata": {},
   "outputs": [
    {
     "ename": "SyntaxError",
     "evalue": "invalid character '‘' (U+2018) (3994846790.py, line 5)",
     "output_type": "error",
     "traceback": [
      "\u001b[1;36m  Input \u001b[1;32mIn [43]\u001b[1;36m\u001b[0m\n\u001b[1;33m    Print(‘Trying to refer a ‘ +’[12’+’] ‘+’ causes the following exception-  IndexError: list index out of range’)\u001b[0m\n\u001b[1;37m          ^\u001b[0m\n\u001b[1;31mSyntaxError\u001b[0m\u001b[1;31m:\u001b[0m invalid character '‘' (U+2018)\n"
     ]
    }
   ],
   "source": [
    "print(\"Referring to the 12th item of a list that has only 10 items\")\n",
    "a=['a' , 'b' , 'c' , 'd' , 'e' ,'f' , 'g' ,'h' , 'i' , 'j']\n",
    "print(\"length of index a is \" + len(a))\n",
    "print(a[12])\n",
    "#Trying to refer a ‘ +’[12’+’] ‘+’ causes the following exception-  IndexError: list index out of range"
   ]
  },
  {
   "cell_type": "markdown",
   "id": "ca8a1bf1",
   "metadata": {},
   "source": [
    "# C)"
   ]
  },
  {
   "cell_type": "code",
   "execution_count": 45,
   "id": "0a3b60ea",
   "metadata": {},
   "outputs": [
    {
     "ename": "SyntaxError",
     "evalue": "invalid character '‘' (U+2018) (568488307.py, line 4)",
     "output_type": "error",
     "traceback": [
      "\u001b[1;36m  Input \u001b[1;32mIn [45]\u001b[1;36m\u001b[0m\n\u001b[1;33m    Print (‘Trying to evaluate value that is out of range causes the following exception-valueError: math domain error\u001b[0m\n\u001b[1;37m           ^\u001b[0m\n\u001b[1;31mSyntaxError\u001b[0m\u001b[1;31m:\u001b[0m invalid character '‘' (U+2018)\n"
     ]
    }
   ],
   "source": [
    "import math\n",
    "print(\"using a value that is out of range for a function’s input, such as calling math.sqrt(-1.0)\")\n",
    "print(math.sqrt(-1.0))\n",
    "#Trying to evaluate value that is out of range causes the following exception-valueError: math domain error"
   ]
  },
  {
   "cell_type": "markdown",
   "id": "bb33b163",
   "metadata": {},
   "source": [
    "# D)"
   ]
  },
  {
   "cell_type": "code",
   "execution_count": 46,
   "id": "e199fbff",
   "metadata": {},
   "outputs": [
    {
     "name": "stdout",
     "output_type": "stream",
     "text": [
      "using an undeclared variable, such as print(x) when x has not been defined\n"
     ]
    },
    {
     "ename": "NameError",
     "evalue": "name 'x' is not defined",
     "output_type": "error",
     "traceback": [
      "\u001b[1;31m---------------------------------------------------------------------------\u001b[0m",
      "\u001b[1;31mNameError\u001b[0m                                 Traceback (most recent call last)",
      "Input \u001b[1;32mIn [46]\u001b[0m, in \u001b[0;36m<cell line: 2>\u001b[1;34m()\u001b[0m\n\u001b[0;32m      1\u001b[0m \u001b[38;5;28mprint\u001b[39m(\u001b[38;5;124m\"\u001b[39m\u001b[38;5;124musing an undeclared variable, such as print(x) when x has not been defined\u001b[39m\u001b[38;5;124m\"\u001b[39m)\n\u001b[1;32m----> 2\u001b[0m \u001b[38;5;28mprint\u001b[39m(\u001b[43mx\u001b[49m)\n",
      "\u001b[1;31mNameError\u001b[0m: name 'x' is not defined"
     ]
    }
   ],
   "source": [
    "print(\"using an undeclared variable, such as print(x) when x has not been defined\")\n",
    "print(x)\n",
    "#Trying to print undefined variable causes the following exception- NameError: name x is not defined"
   ]
  },
  {
   "cell_type": "markdown",
   "id": "41bb7191",
   "metadata": {},
   "source": [
    "# E)"
   ]
  },
  {
   "cell_type": "code",
   "execution_count": 55,
   "id": "5d77bb5b",
   "metadata": {},
   "outputs": [
    {
     "ename": "FileNotFoundError",
     "evalue": "[Errno 2] No such file or directory: 'car.txt'",
     "output_type": "error",
     "traceback": [
      "\u001b[1;31m---------------------------------------------------------------------------\u001b[0m",
      "\u001b[1;31mFileNotFoundError\u001b[0m                         Traceback (most recent call last)",
      "Input \u001b[1;32mIn [55]\u001b[0m, in \u001b[0;36m<cell line: 1>\u001b[1;34m()\u001b[0m\n\u001b[1;32m----> 1\u001b[0m carfile \u001b[38;5;241m=\u001b[39m \u001b[38;5;28;43mopen\u001b[39;49m\u001b[43m(\u001b[49m\u001b[38;5;124;43m\"\u001b[39;49m\u001b[38;5;124;43mcar.txt\u001b[39;49m\u001b[38;5;124;43m\"\u001b[39;49m\u001b[43m)\u001b[49m\n",
      "\u001b[1;31mFileNotFoundError\u001b[0m: [Errno 2] No such file or directory: 'car.txt'"
     ]
    }
   ],
   "source": [
    "carfile = open(\"car.txt\")"
   ]
  },
  {
   "cell_type": "markdown",
   "id": "3b9864dc",
   "metadata": {},
   "source": [
    "#10. Encryption is the process of hiding the meaning of a text by substituting letters in the message with other letters, according to some system. If the process is successful, no one but the intended recipient can understand the encrypted message. Cryptanalysis refers to attempts to undo the encryption, even if some details of the encryption are unknown (for example, if an encrypted message has been intercepted). The first step of cryptanalysis is often to build up a table of letter frequencies in the encrypted text. Assume that the string letters is already defined as 'abcdefghijklmnopqrstuvwxyz'. Write a function called frequencies() that takes a string as its only parameter, and returns a list of integers, showing the number of times each character appears in the text. Your function may ignore any characters that are not in letters.\n",
    "\n",
    "frequencies('The quick red fox got bored and went home.') [1, 1, 1, 3, 5, 1, 1, 2, 1, 0, 1, 0, 1, 2, 4, 0, 1, 2, 0, 2, 1, 0, 1, 1, 0, 0]\n",
    "\n",
    "frequencies('apple')"
   ]
  },
  {
   "cell_type": "code",
   "execution_count": 53,
   "id": "981fbec6",
   "metadata": {},
   "outputs": [
    {
     "name": "stdout",
     "output_type": "stream",
     "text": [
      "[1, 1, 1, 3, 5, 1, 1, 2, 1, 0, 1, 0, 1, 2, 4, 0, 1, 2, 0, 3, 1, 0, 1, 1, 0, 0]\n",
      "[1, 0, 0, 0, 1, 0, 0, 0, 0, 0, 0, 1, 0, 0, 0, 2, 0, 0, 0, 0, 0, 0, 0, 0, 0, 0]\n"
     ]
    }
   ],
   "source": [
    "def frequencies(s):\n",
    "    'takes an input string and count the frequencties of each character in it'\n",
    "    stringLower = s.lower()\n",
    "    letters = 'abcdefghijklmnopqrstuvwxyz'\n",
    "    lettersList = list(letters)\n",
    "    count = [0] * 26\n",
    "    for i in stringLower:\n",
    "        for j in range(len(lettersList)):\n",
    "            if i == lettersList[j]:\n",
    "                count[j] += 1;\n",
    "    print(count)\n",
    "    \n",
    "frequencies('The quick red fox got bored and went home.')\n",
    "frequencies('apple')"
   ]
  }
 ],
 "metadata": {
  "kernelspec": {
   "display_name": "Python 3 (ipykernel)",
   "language": "python",
   "name": "python3"
  },
  "language_info": {
   "codemirror_mode": {
    "name": "ipython",
    "version": 3
   },
   "file_extension": ".py",
   "mimetype": "text/x-python",
   "name": "python",
   "nbconvert_exporter": "python",
   "pygments_lexer": "ipython3",
   "version": "3.9.12"
  }
 },
 "nbformat": 4,
 "nbformat_minor": 5
}
